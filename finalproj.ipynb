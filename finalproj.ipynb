{
  "cells": [
    {
      "cell_type": "raw",
      "metadata": {},
      "source": [
        "---\n",
        "title: \"NM2207 Final Project\"\n",
        "output:\n",
        "  quarto::quarto_html:\n",
        "    self_contained: true\n",
        "    \n",
        "---"
      ],
      "id": "80324d67"
    },
    {
      "cell_type": "markdown",
      "metadata": {},
      "source": [
        "```{css}\n",
        "body {\n",
        "  margin: 0;\n",
        "  padding: 0;\n",
        "}\n",
        "```\n",
        "\n",
        "<iframe height=\"400\" width=\"100%\" frameborder=\"no\" src=\"https://loyyeekeen.shinyapps.io/FinalProject/\"> </iframe>\n",
        "<iframe style=\"width: 100%; overflow: auto;\" frameborder=\"no\" src=\"https://loyyeekeen.shinyapps.io/FinalProject/\"> </iframe>"
      ],
      "id": "cb993bda"
    }
  ],
  "metadata": {
    "kernelspec": {
      "display_name": "Python 3",
      "language": "python",
      "name": "python3"
    }
  },
  "nbformat": 4,
  "nbformat_minor": 5
}